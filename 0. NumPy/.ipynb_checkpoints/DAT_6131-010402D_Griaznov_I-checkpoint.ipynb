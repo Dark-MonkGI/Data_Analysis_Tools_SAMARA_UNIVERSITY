{
 "cells": [
  {
   "cell_type": "markdown",
   "metadata": {
    "collapsed": true,
    "pycharm": {
     "name": "#%% md\n"
    }
   },
   "source": [
    "# Laboratory work  0\n",
    "\n",
    "**Numpy**\n",
    "\n",
    "Completed: гр.№ 6131-010402D, Griaznov Ilia"
   ]
  },
  {
   "cell_type": "markdown",
   "metadata": {},
   "source": [
    "**Theory:**\n",
    ">***NumPy***<br/>\n",
    "Это библиотека с открытым исходным кодом, некогда отделившаяся от проекта SciPy. NumPy является наследником Numeric и NumArray. Основан NumPy на библиотеке LAPAC, которая написана на Fortran. Не-python альтернативой для NumPy является Matlab.\n",
    ">\n",
    ">В силу того, что NumPy базируется на Fortran это быстрая библиотека. А в силу того, что поддерживает векторные операции с многомерными массивами — крайне удобная."
   ]
  },
  {
   "cell_type": "code",
   "execution_count": 1,
   "metadata": {},
   "outputs": [
    {
     "data": {
      "text/plain": [
       "'1.20.3'"
      ]
     },
     "execution_count": 1,
     "metadata": {},
     "output_type": "execute_result"
    }
   ],
   "source": [
    "import numpy as np\n",
    "\n",
    "# Import Libraries NumPy\n",
    "np.__version__"
   ]
  },
  {
   "cell_type": "markdown",
   "metadata": {},
   "source": [
    "### Создание массива\n",
    "\n",
    "***Создать массив можно несколькими способами:***\n",
    "\n",
    "    1. преобразовать список в массив:"
   ]
  },
  {
   "cell_type": "code",
   "execution_count": 2,
   "metadata": {},
   "outputs": [
    {
     "name": "stdout",
     "output_type": "stream",
     "text": [
      "[[1 2 3]\n",
      " [4 5 6]]\n"
     ]
    }
   ],
   "source": [
    "arr_one = np.array([[1, 2, 3], [4, 5, 6]])\n",
    "print(arr_one)"
   ]
  },
  {
   "cell_type": "markdown",
   "metadata": {},
   "source": [
    "    2. Cкопировать массив:"
   ]
  },
  {
   "cell_type": "code",
   "execution_count": 3,
   "metadata": {},
   "outputs": [
    {
     "name": "stdout",
     "output_type": "stream",
     "text": [
      "[[1 2 3]\n",
      " [4 5 6]]\n"
     ]
    }
   ],
   "source": [
    "arr_two = arr_one.copy()\n",
    "print(arr_two)"
   ]
  },
  {
   "cell_type": "markdown",
   "metadata": {},
   "source": [
    "    3. Cоздать нулевой или единичный массив заданного размера:"
   ]
  },
  {
   "cell_type": "code",
   "execution_count": 4,
   "metadata": {},
   "outputs": [
    {
     "name": "stdout",
     "output_type": "stream",
     "text": [
      "[[0. 0. 0.]\n",
      " [0. 0. 0.]]\n",
      "\n",
      "-----With-Type----\n",
      "[[0 0 0]\n",
      " [0 0 0]]\n",
      "\n",
      "-------------------------\n",
      "[[1. 1.]\n",
      " [1. 1.]\n",
      " [1. 1.]]\n",
      "\n",
      "-----With-Type----\n",
      "[[1.+0.j 1.+0.j]\n",
      " [1.+0.j 1.+0.j]\n",
      " [1.+0.j 1.+0.j]]\n",
      "\n",
      "-----Change-Type----\n",
      "[['1.0' '1.0']\n",
      " ['1.0' '1.0']\n",
      " ['1.0' '1.0']]\n"
     ]
    }
   ],
   "source": [
    "arr_one = np.zeros((2, 3))\n",
    "print(arr_one)\n",
    "\n",
    "print(\"\")\n",
    "print(\"-----With-Type----\")\n",
    "\n",
    "arr_one = np.zeros((2, 3), 'int')\n",
    "print(arr_one)\n",
    "\n",
    "\n",
    "print(\"\")\n",
    "print(\"-------------------------\")\n",
    "\n",
    "arr_two = np.ones((3, 2))\n",
    "print(arr_two)\n",
    "\n",
    "print(\"\")\n",
    "print(\"-----With-Type----\")\n",
    "\n",
    "arr_two = np.ones((3, 2), 'complex')\n",
    "print(arr_two)\n",
    "\n",
    "\n",
    "print(\"\")\n",
    "print(\"-----Change-Type----\")\n",
    "\n",
    "arr_one = np.ones((3, 2))\n",
    "arr_two = arr_one.astype('str')\n",
    "print(arr_two)"
   ]
  },
  {
   "cell_type": "markdown",
   "metadata": {},
   "source": [
    "    А так же задать размеры уже существующего массива:"
   ]
  },
  {
   "cell_type": "code",
   "execution_count": 5,
   "metadata": {},
   "outputs": [
    {
     "name": "stdout",
     "output_type": "stream",
     "text": [
      "[[0 0 0]\n",
      " [0 0 0]]\n",
      "-------------------------\n",
      "[[1 1 1]\n",
      " [1 1 1]\n",
      " [1 1 1]]\n"
     ]
    }
   ],
   "source": [
    "arr_one = np.array([[1, 2, 3],\n",
    "                    [4, 5, 6]])\n",
    "arr_two = np.zeros_like(arr_one)\n",
    "print(arr_two)\n",
    "\n",
    "print(\"-------------------------\")\n",
    "\n",
    "arr_one = np.array([[1, 2, 3],\n",
    "                    [4, 5, 6],\n",
    "                    [7, 8, 9]])\n",
    "arr_two = np.ones_like(arr_one)\n",
    "print(arr_two)"
   ]
  },
  {
   "cell_type": "markdown",
   "metadata": {},
   "source": [
    "    4. При создании двумерного квадратного массива можно сделать его единичной диагональной матрицей:"
   ]
  },
  {
   "cell_type": "code",
   "execution_count": 6,
   "metadata": {},
   "outputs": [
    {
     "name": "stdout",
     "output_type": "stream",
     "text": [
      "[[1. 0. 0. 0. 0.]\n",
      " [0. 1. 0. 0. 0.]\n",
      " [0. 0. 1. 0. 0.]\n",
      " [0. 0. 0. 1. 0.]\n",
      " [0. 0. 0. 0. 1.]]\n"
     ]
    }
   ],
   "source": [
    "arr_one = np.eye(5)\n",
    "print(arr_one)"
   ]
  },
  {
   "cell_type": "markdown",
   "metadata": {},
   "source": [
    "    5. Построить массив чисел от From (включая) до To (не включая) с шагом Step:"
   ]
  },
  {
   "cell_type": "code",
   "execution_count": 7,
   "metadata": {},
   "outputs": [
    {
     "name": "stdout",
     "output_type": "stream",
     "text": [
      "-----Three--parameter------\n",
      "[ 1.5  2.   2.5  3.   3.5  4.   4.5  5.   5.5  6.   6.5  7.   7.5  8.\n",
      "  8.5  9.   9.5 10. ]\n",
      "\n",
      "------Two--parameter-----\n",
      "[1.5 2.5 3.5 4.5 5.5 6.5 7.5 8.5 9.5]\n",
      "\n",
      "-----One--parameter------\n",
      "[ 0.  1.  2.  3.  4.  5.  6.  7.  8.  9. 10.]\n"
     ]
    }
   ],
   "source": [
    "print(\"-----Three--parameter------\")\n",
    "From = 1.5\n",
    "To = 10.5\n",
    "Step = 0.5\n",
    "arr_one = np.arange(From, To, Step)\n",
    "print(arr_one)\n",
    "\n",
    "print(\"\")\n",
    "print(\"------Two--parameter-----\")\n",
    "\n",
    "arr_one = np.arange(From, To)\n",
    "print(arr_one)\n",
    "\n",
    "print(\"\")\n",
    "print(\"-----One--parameter------\")\n",
    "\n",
    "arr_one = np.arange(To)\n",
    "print(arr_one)"
   ]
  },
  {
   "cell_type": "markdown",
   "metadata": {},
   "source": [
    "**Доступ к элементам, срезы** <br/>\n",
    "\n",
    "    Доступ к элементам массива осуществляется по целочисленным индексами, начинается отсчет с 0:"
   ]
  },
  {
   "cell_type": "code",
   "execution_count": 8,
   "metadata": {},
   "outputs": [
    {
     "name": "stdout",
     "output_type": "stream",
     "text": [
      "4\n",
      "\n",
      "------------\n",
      "\n",
      "[4 5 6]\n",
      "\n",
      "------------\n",
      "\n",
      "4\n"
     ]
    }
   ],
   "source": [
    "arr_one = np.array([[1, 2, 3], [4, 5, 6]])\n",
    "print(arr_one[1, 0])\n",
    "\n",
    "print(\"\")\n",
    "print(\"------------\")\n",
    "print(\"\")\n",
    "\n",
    "print(arr_one[1])\n",
    "\n",
    "print(\"\")\n",
    "print(\"------------\")\n",
    "print(\"\")\n",
    "\n",
    "print(arr_one[1][0])"
   ]
  },
  {
   "cell_type": "markdown",
   "metadata": {},
   "source": [
    "    При использовании неполного набора индексов, недостающие индексы неявно заменяются списком всех возможных индексов вдоль соответствующей оси. Сделать это явным образом можно, поставив \":\""
   ]
  },
  {
   "cell_type": "code",
   "execution_count": 9,
   "metadata": {},
   "outputs": [
    {
     "data": {
      "text/plain": [
       "array([4, 5, 6])"
      ]
     },
     "execution_count": 9,
     "metadata": {},
     "output_type": "execute_result"
    }
   ],
   "source": [
    "arr_one = np.array([[1, 2, 3], [4, 5, 6]])\n",
    "arr_one[1, :]"
   ]
  },
  {
   "cell_type": "markdown",
   "metadata": {},
   "source": [
    "    «Пропустить» индекс можно вдоль любой оси или осей, если за «пропущенной» осью последуют оси с индексацией, то \":\" обязательно:"
   ]
  },
  {
   "cell_type": "code",
   "execution_count": 10,
   "metadata": {},
   "outputs": [
    {
     "name": "stdout",
     "output_type": "stream",
     "text": [
      "[2 5]\n",
      "\n",
      "------------\n",
      "\n",
      "[0 1 2 3 4]\n",
      "4\n",
      "\n",
      "------------\n",
      "\n",
      "[0 1 2 3 4 5 6 7 8 9]\n",
      "[0 6 8 2]\n"
     ]
    }
   ],
   "source": [
    "arr_one = np.array([[1, 2, 3], [4, 5, 6]])\n",
    "print(arr_one[:, 1])\n",
    "\n",
    "print(\"\")\n",
    "print(\"------------\")\n",
    "print(\"\")\n",
    "\n",
    "arr_one = np.arange(5)\n",
    "print(arr_one)\n",
    "print(arr_one[-1])\n",
    "\n",
    "print(\"\")\n",
    "print(\"------------\")\n",
    "print(\"\")\n",
    "\n",
    "arr_one = np.arange(10)\n",
    "print(arr_one)\n",
    "print(arr_one[[0, 6, -2, 2]])"
   ]
  },
  {
   "cell_type": "markdown",
   "metadata": {},
   "source": [
    "    Так же диапазоны индексов в виде «From:To:Step». Такая конструкция называется срезом. Выбираются все элементы по \n",
    "    списку индексов начиная с индекса From включительно, до индекса To \"не включая\" с шагом Step:"
   ]
  },
  {
   "cell_type": "code",
   "execution_count": 11,
   "metadata": {},
   "outputs": [
    {
     "name": "stdout",
     "output_type": "stream",
     "text": [
      "[0 1 2 3 4]\n",
      "[0 2]\n",
      "\n",
      "Шаг индекса имеет значение по умолчанию 1 и может быть пропущен:\n",
      "\n",
      "[0 1 2 3 4]\n",
      "[0 1 2 3]\n",
      "\n",
      "Значения From и To тоже имеют дефолтные значения: 0 и размер массива по оси индексации соответственно:\n",
      "\n",
      "[0 1 2 3 4]\n",
      "[0 1 2 3]\n",
      "\n",
      "------------\n",
      "\n",
      "[0 1 2 3 4]\n",
      "[2 3 4]\n"
     ]
    }
   ],
   "source": [
    "arr_one = np.arange(5)\n",
    "print(arr_one)\n",
    "print(arr_one[0:4:2])\n",
    "\n",
    "\n",
    "print(\"\")\n",
    "print(\"Шаг индекса имеет значение по умолчанию 1 и может быть пропущен:\")\n",
    "print(\"\")\n",
    "\n",
    "arr_one = np.arange(5)\n",
    "print(arr_one)\n",
    "print(arr_one[0:4])\n",
    "\n",
    "print(\"\")\n",
    "print(\"Значения From и To тоже имеют дефолтные значения: 0 и размер массива по оси индексации соответственно:\")\n",
    "print(\"\")\n",
    "\n",
    "arr_one = np.arange(5)\n",
    "print(arr_one)\n",
    "print(arr_one[:4])\n",
    "\n",
    "print(\"\")\n",
    "print(\"------------\")\n",
    "print(\"\")\n",
    "\n",
    "arr_one = np.arange(5)\n",
    "print(arr_one)\n",
    "print(arr_one[-3:])"
   ]
  },
  {
   "cell_type": "markdown",
   "metadata": {},
   "source": [
    "    При использовании From и To по умолчанию (все индексы по данной оси) а шаг отличный от 1, то необходимо \n",
    "    использовать две пары двоеточий, чтобы интерпретатор смог идентифицировать единственный параметр как Step. \n",
    "    Следующий код «разворачивает» массив вдоль второй оси, а вдоль первой не меняет:"
   ]
  },
  {
   "cell_type": "code",
   "execution_count": 12,
   "metadata": {},
   "outputs": [
    {
     "name": "stdout",
     "output_type": "stream",
     "text": [
      "arr_one [[1 2 3]\n",
      " [4 5 6]]\n",
      "\n",
      "arr_two [[3 2 1]\n",
      " [6 5 4]]\n"
     ]
    }
   ],
   "source": [
    "arr_one = np.array([[1, 2, 3], [4, 5, 6]])\n",
    "arr_two = arr_one[:, ::-1]\n",
    "\n",
    "print(\"arr_one\", arr_one)\n",
    "print(\"\")\n",
    "print(\"arr_two\", arr_two)"
   ]
  },
  {
   "cell_type": "code",
   "execution_count": 13,
   "metadata": {},
   "outputs": [
    {
     "name": "stdout",
     "output_type": "stream",
     "text": [
      "[[1 2 3]\n",
      " [4 5 6]]\n",
      "\n",
      "[[1 2 0]\n",
      " [4 5 6]]\n"
     ]
    }
   ],
   "source": [
    "print(arr_one)\n",
    "arr_two[0, 0] = 0\n",
    "\n",
    "print(\"\")     \n",
    "print(arr_one)"
   ]
  },
  {
   "cell_type": "markdown",
   "metadata": {},
   "source": [
    "    Через B были изменены данные в A. Вот почему в реальных задачах важно использовать копии. Пример выше должен был бы выглядеть так:"
   ]
  },
  {
   "cell_type": "code",
   "execution_count": 34,
   "metadata": {},
   "outputs": [
    {
     "name": "stdout",
     "output_type": "stream",
     "text": [
      "arr_one [[1 2 3]\n",
      " [4 5 6]]\n",
      "\n",
      "arr_two [[3 2 1]\n",
      " [6 5 4]]\n"
     ]
    }
   ],
   "source": [
    "arr_one = np.array([[1, 2, 3], [4, 5, 6]])\n",
    "arr_two = arr_one.copy()[:, ::-1]\n",
    "\n",
    "print(\"arr_one\", arr_one)\n",
    "print(\"\") \n",
    "print(\"arr_two\", arr_two)"
   ]
  },
  {
   "cell_type": "markdown",
   "metadata": {},
   "source": [
    "    В NumPy также реализована возможность доступа ко множеству элементов массива через булев индексный массив. \n",
    "    Индексный массив должен совпадать по форме с индексируемым."
   ]
  },
  {
   "cell_type": "code",
   "execution_count": 15,
   "metadata": {},
   "outputs": [
    {
     "name": "stdout",
     "output_type": "stream",
     "text": [
      "[3 4 6]\n"
     ]
    }
   ],
   "source": [
    "arr_one  = np.array([[1, 2, 3], [4, 5, 6]])\n",
    "bool_value = np.array([[False, False, True], [ True, False, True]])\n",
    "\n",
    "\n",
    "print(arr_one[bool_value])"
   ]
  },
  {
   "cell_type": "markdown",
   "metadata": {},
   "source": [
    "    Такая конструкция возвращает плоский массив, состоящий из элементов индексируемого массива, соответствующих \n",
    "    истинным индексам. Однако, если мы используем такой доступ к элементам массива для изменения их значений, то форма массива сохранится:"
   ]
  },
  {
   "cell_type": "code",
   "execution_count": 16,
   "metadata": {},
   "outputs": [
    {
     "name": "stdout",
     "output_type": "stream",
     "text": [
      "[[1 2 0]\n",
      " [0 5 0]]\n"
     ]
    }
   ],
   "source": [
    "arr_one = np.array([[1, 2, 3], [4, 5, 6]])\n",
    "bool_value = np.array([[False, False, True], [ True, False, True]])\n",
    "\n",
    "arr_one[bool_value] = 0\n",
    "print(arr_one)"
   ]
  },
  {
   "cell_type": "markdown",
   "metadata": {},
   "source": [
    "    Над индексирующими булевыми массивами определены логические операции logical_and, logical_or и logical_not \n",
    "    выполняющие логические операции И, ИЛИ и НЕ поэлементно:"
   ]
  },
  {
   "cell_type": "code",
   "execution_count": 17,
   "metadata": {},
   "outputs": [
    {
     "name": "stdout",
     "output_type": "stream",
     "text": [
      "B\n",
      " [[1 2 3]\n",
      " [4 5 0]]\n",
      "\n",
      "C\n",
      " [[1 0 0]\n",
      " [0 5 0]]\n",
      "\n",
      "D\n",
      " [[0 0 3]\n",
      " [4 0 6]]\n"
     ]
    }
   ],
   "source": [
    "A = np.array([[1, 2, 3], [4, 5, 6]])\n",
    "\n",
    "I1 = np.array([[False, False, True], [True, False, True]])\n",
    "I2 = np.array([[False, True, False], [False, False, True]])\n",
    "\n",
    "B = A.copy()\n",
    "C = A.copy()\n",
    "D = A.copy()\n",
    "\n",
    "B[np.logical_and(I1, I2)] = 0\n",
    "C[np.logical_or(I1, I2)] = 0\n",
    "D[np.logical_not(I1)] = 0\n",
    "\n",
    "print('B\\n', B)\n",
    "print('\\nC\\n', C)\n",
    "print('\\nD\\n', D)"
   ]
  },
  {
   "cell_type": "markdown",
   "metadata": {},
   "source": [
    "    logical_and и logical_or принимают 2 операнда, logical_not — один. Можно использовать операторы &, | и ~ для выполнения И, ИЛИ и НЕ соответственно с любым количеством операндов (Что эквивалентно применению только I1.): "
   ]
  },
  {
   "cell_type": "code",
   "execution_count": 18,
   "metadata": {},
   "outputs": [
    {
     "name": "stdout",
     "output_type": "stream",
     "text": [
      "[[1 2 0]\n",
      " [0 5 0]]\n"
     ]
    }
   ],
   "source": [
    "A = np.array([[1, 2, 3], [4, 5, 6]])\n",
    "\n",
    "I1 = np.array([[False, False, True], [True, False, True]])\n",
    "I2 = np.array([[False, True, False], [False, False, True]])\n",
    "\n",
    "A[I1 & (I1 | ~ I2)] = 0\n",
    "\n",
    "print(A)"
   ]
  },
  {
   "cell_type": "markdown",
   "metadata": {},
   "source": [
    "    Получить индексирующий логический массив, соответсвующий по форме массиву значений можно, записав логическое \n",
    "    условие с именем массива в качестве операнда. Булево значение индекса будет рассчитано как истинность выражения\n",
    "    для соответствующего элемента массива.\n",
    "\n",
    "    Найдем индексирующий массив I элементов, которые больше, чем 3, а элементы со значениями меньше чем 2 и \n",
    "    больше 4 — обнулим:\n"
   ]
  },
  {
   "cell_type": "code",
   "execution_count": 19,
   "metadata": {},
   "outputs": [
    {
     "name": "stdout",
     "output_type": "stream",
     "text": [
      "A before\n",
      " [[1 2 3]\n",
      " [4 5 6]]\n",
      "I\n",
      " [[False False False]\n",
      " [ True  True  True]]\n",
      "A after\n",
      " [[0 2 3]\n",
      " [4 0 0]]\n"
     ]
    }
   ],
   "source": [
    "A = np.array([[1, 2, 3], [4, 5, 6]])\n",
    "print('A before\\n', A)\n",
    "\n",
    "I = A > 3\n",
    "print('I\\n', I)\n",
    "\n",
    "A[np.logical_or(A < 2, A > 4)] = 0\n",
    "print('A after\\n', A)"
   ]
  },
  {
   "cell_type": "markdown",
   "metadata": {},
   "source": [
    "### Форма массива и ее изменение"
   ]
  },
  {
   "cell_type": "markdown",
   "metadata": {},
   "source": [
    "    Многомерный массив можно представить как одномерный массив максимальной длины, нарезанный на фрагменты по длине \n",
    "    самой последней оси и уложенный слоями по осям, начиная с последних."
   ]
  },
  {
   "cell_type": "code",
   "execution_count": 20,
   "metadata": {},
   "outputs": [
    {
     "name": "stdout",
     "output_type": "stream",
     "text": [
      "B\n",
      " [[ 0  1  2  3  4  5]\n",
      " [ 6  7  8  9 10 11]\n",
      " [12 13 14 15 16 17]\n",
      " [18 19 20 21 22 23]]\n",
      "\n",
      "C\n",
      " [[[ 0  1]\n",
      "  [ 2  3]\n",
      "  [ 4  5]]\n",
      "\n",
      " [[ 6  7]\n",
      "  [ 8  9]\n",
      "  [10 11]]\n",
      "\n",
      " [[12 13]\n",
      "  [14 15]\n",
      "  [16 17]]\n",
      "\n",
      " [[18 19]\n",
      "  [20 21]\n",
      "  [22 23]]]\n"
     ]
    }
   ],
   "source": [
    "A = np.arange(24)\n",
    "B = A.reshape(4, 6)\n",
    "C = A.reshape(4, 3, 2)\n",
    "print('B\\n', B)\n",
    "print('\\nC\\n', C)"
   ]
  },
  {
   "cell_type": "markdown",
   "metadata": {},
   "source": [
    "    В этом примере из одномерного массива длиной 24 элемента сформировали 2 новых массива. \n",
    "    Массив B, размером 4 на 6. Если посмотреть на порядок значений, то видно, что вдоль второго измерения \n",
    "    идут цепочки последовательных значений.\n",
    "\n",
    "    В массиве C, размером 4 на 3 на 2, непрерывные значения идут вдоль последней оси. Вдоль второй оси идут\n",
    "    последовательно блоки, объединение которых дало бы в результате строки вдоль второй оси массива B.\n",
    "\n",
    "    А учитывая, что не создавались копии, становится понятно, что это разные формы преставления одного и того \n",
    "    же массива данных. Поэтому можно легко и быстро менять форму массива, не изменяя самих данных.\n",
    "\n",
    "    Чтобы узнать размерность массива (количество осей), можно использовать поле ndim (число), а чтобы узнать \n",
    "    размер вдоль каждой оси — shape (кортеж). Размерность можно также узнать и по длине shape. Чтобы узнать\n",
    "    полное количество элементов в массиве можно воспользоваться значением size:"
   ]
  },
  {
   "cell_type": "code",
   "execution_count": 21,
   "metadata": {},
   "outputs": [
    {
     "name": "stdout",
     "output_type": "stream",
     "text": [
      "3 (4, 3, 2) 3 24\n"
     ]
    }
   ],
   "source": [
    "A = np.arange(24)\n",
    "C = A.reshape(4, 3, 2)\n",
    "\n",
    "print(C.ndim, C.shape, len(C.shape), A.size)"
   ]
  },
  {
   "cell_type": "markdown",
   "metadata": {},
   "source": [
    "\n",
    "***ndim и shape — это атрибуты, а не методы!***\n",
    "\n",
    "    Чтобы увидеть массив одномерным, можно воспользоваться функцией ravel:"
   ]
  },
  {
   "cell_type": "code",
   "execution_count": 22,
   "metadata": {},
   "outputs": [
    {
     "data": {
      "text/plain": [
       "array([1, 2, 3, 4, 5, 6])"
      ]
     },
     "execution_count": 22,
     "metadata": {},
     "output_type": "execute_result"
    }
   ],
   "source": [
    "A = np.array([[1, 2, 3], [4, 5, 6]])\n",
    "A.ravel()"
   ]
  },
  {
   "cell_type": "markdown",
   "metadata": {},
   "source": [
    "    Чтобы поменять размеры вдоль осей или размерность используется метод reshape:"
   ]
  },
  {
   "cell_type": "code",
   "execution_count": 23,
   "metadata": {},
   "outputs": [
    {
     "data": {
      "text/plain": [
       "array([[1, 2],\n",
       "       [3, 4],\n",
       "       [5, 6]])"
      ]
     },
     "execution_count": 23,
     "metadata": {},
     "output_type": "execute_result"
    }
   ],
   "source": [
    "A = np.array([[1, 2, 3], [4, 5, 6]])\n",
    "A.reshape(3, 2)"
   ]
  },
  {
   "cell_type": "markdown",
   "metadata": {},
   "source": [
    "    Важно, чтобы количество элементов сохранилось. Иначе возникнет ошибка:"
   ]
  },
  {
   "cell_type": "code",
   "execution_count": 24,
   "metadata": {},
   "outputs": [
    {
     "ename": "ValueError",
     "evalue": "cannot reshape array of size 6 into shape (3,3)",
     "output_type": "error",
     "traceback": [
      "\u001b[1;31m---------------------------------------------------------------------------\u001b[0m",
      "\u001b[1;31mValueError\u001b[0m                                Traceback (most recent call last)",
      "\u001b[1;32mC:\\Users\\DARK_M~1\\AppData\\Local\\Temp/ipykernel_1276/1234901047.py\u001b[0m in \u001b[0;36m<module>\u001b[1;34m\u001b[0m\n\u001b[0;32m      1\u001b[0m \u001b[0mA\u001b[0m \u001b[1;33m=\u001b[0m \u001b[0mnp\u001b[0m\u001b[1;33m.\u001b[0m\u001b[0marray\u001b[0m\u001b[1;33m(\u001b[0m\u001b[1;33m[\u001b[0m\u001b[1;33m[\u001b[0m\u001b[1;36m1\u001b[0m\u001b[1;33m,\u001b[0m \u001b[1;36m2\u001b[0m\u001b[1;33m,\u001b[0m \u001b[1;36m3\u001b[0m\u001b[1;33m]\u001b[0m\u001b[1;33m,\u001b[0m \u001b[1;33m[\u001b[0m\u001b[1;36m4\u001b[0m\u001b[1;33m,\u001b[0m \u001b[1;36m5\u001b[0m\u001b[1;33m,\u001b[0m \u001b[1;36m6\u001b[0m\u001b[1;33m]\u001b[0m\u001b[1;33m]\u001b[0m\u001b[1;33m)\u001b[0m\u001b[1;33m\u001b[0m\u001b[1;33m\u001b[0m\u001b[0m\n\u001b[1;32m----> 2\u001b[1;33m \u001b[0mA\u001b[0m\u001b[1;33m.\u001b[0m\u001b[0mreshape\u001b[0m\u001b[1;33m(\u001b[0m\u001b[1;36m3\u001b[0m\u001b[1;33m,\u001b[0m \u001b[1;36m3\u001b[0m\u001b[1;33m)\u001b[0m\u001b[1;33m\u001b[0m\u001b[1;33m\u001b[0m\u001b[0m\n\u001b[0m",
      "\u001b[1;31mValueError\u001b[0m: cannot reshape array of size 6 into shape (3,3)"
     ]
    }
   ],
   "source": [
    "A = np.array([[1, 2, 3], [4, 5, 6]])\n",
    "A.reshape(3, 3)"
   ]
  },
  {
   "cell_type": "markdown",
   "metadata": {},
   "source": [
    "    Учитывая, что количество элементов постоянно, размер вдоль одной любой оси при выполнении reshape может быть\n",
    "    вычислен из значений длины вдоль других осей. Размер вдоль одной оси можно обозначить -1 и тогда он будет вычислен автоматически"
   ]
  },
  {
   "cell_type": "code",
   "execution_count": 25,
   "metadata": {},
   "outputs": [
    {
     "name": "stdout",
     "output_type": "stream",
     "text": [
      "(4, 6) (4, 3, 2)\n"
     ]
    }
   ],
   "source": [
    "A = np.arange(24)\n",
    "B = A.reshape(4, -1)\n",
    "C = A.reshape(4, -1, 2)\n",
    "\n",
    "print(B.shape, C.shape)"
   ]
  },
  {
   "cell_type": "markdown",
   "metadata": {},
   "source": [
    "Можно reshape использовать вместо ravel:"
   ]
  },
  {
   "cell_type": "code",
   "execution_count": 26,
   "metadata": {},
   "outputs": [
    {
     "name": "stdout",
     "output_type": "stream",
     "text": [
      "(6,)\n"
     ]
    }
   ],
   "source": [
    "A = np.array([[1, 2, 3], [4, 5, 6]])\n",
    "B = A.reshape(-1)\n",
    "print(B.shape)"
   ]
  },
  {
   "cell_type": "markdown",
   "metadata": {
    "pycharm": {
     "name": "#%% md\n"
    }
   },
   "source": [
    "## **Task:** \n",
    " 1. Взять из документации по numpy 12 любых функций / методов / операторов и продемонстрировать их работу. Для каждой функции добавить комментарий."
   ]
  },
  {
   "cell_type": "markdown",
   "metadata": {
    "pycharm": {
     "name": "#%%\n"
    }
   },
   "source": [
    "Создадим две матрицы для работы с методами NumPy"
   ]
  },
  {
   "cell_type": "code",
   "execution_count": 27,
   "metadata": {},
   "outputs": [
    {
     "name": "stdout",
     "output_type": "stream",
     "text": [
      "[[ 0  1  2  3  4]\n",
      " [ 5  6  7  8  9]\n",
      " [10 11 12 13 14]\n",
      " [15 16 17 18 19]\n",
      " [20 21 22 23 24]]\n"
     ]
    }
   ],
   "source": [
    "matrix = np.arange(25).reshape(5,5) \n",
    "print(matrix)"
   ]
  },
  {
   "cell_type": "code",
   "execution_count": 28,
   "metadata": {},
   "outputs": [
    {
     "name": "stdout",
     "output_type": "stream",
     "text": [
      "[[ 0.70519601  1.46230534  0.58848131 -0.13064263 -0.23878011]\n",
      " [ 0.25630548 -1.35908392 -0.96708255  0.64012389  1.54746696]\n",
      " [-0.05499214  2.0250038  -0.15524356 -1.3411073   0.14207095]\n",
      " [ 1.36134987 -0.42196646 -0.76751673 -0.98515563  0.54553258]\n",
      " [-0.0535705  -0.94377895  0.43082925 -0.30064632  0.07486604]]\n"
     ]
    }
   ],
   "source": [
    "matrix_two = np.random.randn(5, 5)\n",
    "print(matrix_two)"
   ]
  },
  {
   "cell_type": "code",
   "execution_count": 29,
   "metadata": {},
   "outputs": [
    {
     "name": "stdout",
     "output_type": "stream",
     "text": [
      "[[-0.23878011 -0.13064263  0.58848131  0.70519601  1.46230534]\n",
      " [-1.35908392 -0.96708255  0.25630548  0.64012389  1.54746696]\n",
      " [-1.3411073  -0.15524356 -0.05499214  0.14207095  2.0250038 ]\n",
      " [-0.98515563 -0.76751673 -0.42196646  0.54553258  1.36134987]\n",
      " [-0.94377895 -0.30064632 -0.0535705   0.07486604  0.43082925]]\n"
     ]
    }
   ],
   "source": [
    "# 1. Отсортировать\n",
    "\n",
    "matrix_two.sort()\n",
    "print(matrix_two)"
   ]
  },
  {
   "cell_type": "code",
   "execution_count": 30,
   "metadata": {},
   "outputs": [
    {
     "name": "stdout",
     "output_type": "stream",
     "text": [
      "False\n"
     ]
    }
   ],
   "source": [
    "# 2. Проверим, одинаковы ли 2 numpy массива\n",
    "\n",
    "equal = np.allclose(matrix, matrix_two)\n",
    "print(equal)"
   ]
  },
  {
   "cell_type": "code",
   "execution_count": 48,
   "metadata": {},
   "outputs": [
    {
     "ename": "ValueError",
     "evalue": "assignment destination is read-only",
     "output_type": "error",
     "traceback": [
      "\u001b[1;31m---------------------------------------------------------------------------\u001b[0m",
      "\u001b[1;31mValueError\u001b[0m                                Traceback (most recent call last)",
      "\u001b[1;32mC:\\Users\\DARK_M~1\\AppData\\Local\\Temp/ipykernel_1276/1819530054.py\u001b[0m in \u001b[0;36m<module>\u001b[1;34m\u001b[0m\n\u001b[0;32m      2\u001b[0m \u001b[1;33m\u001b[0m\u001b[0m\n\u001b[0;32m      3\u001b[0m \u001b[0mmatrix\u001b[0m\u001b[1;33m.\u001b[0m\u001b[0mflags\u001b[0m\u001b[1;33m.\u001b[0m\u001b[0mwriteable\u001b[0m \u001b[1;33m=\u001b[0m \u001b[1;32mFalse\u001b[0m\u001b[1;33m\u001b[0m\u001b[1;33m\u001b[0m\u001b[0m\n\u001b[1;32m----> 4\u001b[1;33m \u001b[0mmatrix\u001b[0m\u001b[1;33m[\u001b[0m\u001b[1;36m0\u001b[0m\u001b[1;33m]\u001b[0m \u001b[1;33m=\u001b[0m \u001b[1;36m1\u001b[0m\u001b[1;33m\u001b[0m\u001b[1;33m\u001b[0m\u001b[0m\n\u001b[0m",
      "\u001b[1;31mValueError\u001b[0m: assignment destination is read-only"
     ]
    }
   ],
   "source": [
    "# 3. Теперь сделаем один массив неизменяемым\n",
    "\n",
    "matrix.flags.writeable = False\n",
    "matrix[0] = 1"
   ]
  },
  {
   "cell_type": "code",
   "execution_count": 32,
   "metadata": {},
   "outputs": [
    {
     "name": "stdout",
     "output_type": "stream",
     "text": [
      "[[0.36787944 0.44822088 0.51979489 0.57375342 0.60279818 0.60279818\n",
      "  0.57375342 0.51979489 0.44822088 0.36787944]\n",
      " [0.44822088 0.54610814 0.63331324 0.69905581 0.73444367 0.73444367\n",
      "  0.69905581 0.63331324 0.54610814 0.44822088]\n",
      " [0.51979489 0.63331324 0.73444367 0.81068432 0.85172308 0.85172308\n",
      "  0.81068432 0.73444367 0.63331324 0.51979489]\n",
      " [0.57375342 0.69905581 0.81068432 0.89483932 0.9401382  0.9401382\n",
      "  0.89483932 0.81068432 0.69905581 0.57375342]\n",
      " [0.60279818 0.73444367 0.85172308 0.9401382  0.98773022 0.98773022\n",
      "  0.9401382  0.85172308 0.73444367 0.60279818]\n",
      " [0.60279818 0.73444367 0.85172308 0.9401382  0.98773022 0.98773022\n",
      "  0.9401382  0.85172308 0.73444367 0.60279818]\n",
      " [0.57375342 0.69905581 0.81068432 0.89483932 0.9401382  0.9401382\n",
      "  0.89483932 0.81068432 0.69905581 0.57375342]\n",
      " [0.51979489 0.63331324 0.73444367 0.81068432 0.85172308 0.85172308\n",
      "  0.81068432 0.73444367 0.63331324 0.51979489]\n",
      " [0.44822088 0.54610814 0.63331324 0.69905581 0.73444367 0.73444367\n",
      "  0.69905581 0.63331324 0.54610814 0.44822088]\n",
      " [0.36787944 0.44822088 0.51979489 0.57375342 0.60279818 0.60279818\n",
      "  0.57375342 0.51979489 0.44822088 0.36787944]]\n"
     ]
    }
   ],
   "source": [
    "# 4. Сформируем 2D массив с распределением Гаусса\n",
    "\n",
    "X, Y = np.meshgrid(np.linspace(-1,1,10), np.linspace(-1,1,10))\n",
    "D = np.hypot(X, Y)\n",
    "sigma, mu = 1.0, 0.0\n",
    "G = np.exp(-((D - mu) ** 2 / (2.0 * sigma ** 2)))\n",
    "print(G)"
   ]
  },
  {
   "cell_type": "code",
   "execution_count": 33,
   "metadata": {},
   "outputs": [
    {
     "name": "stdout",
     "output_type": "stream",
     "text": [
      "False\n"
     ]
    }
   ],
   "source": [
    "# 5. Определим, есть ли в 2D массиве нулевые столбцы\n",
    "\n",
    "Z = np.random.randint(0,3,(3,10))\n",
    "print((~Z.any(axis=0)).any())"
   ]
  },
  {
   "cell_type": "code",
   "execution_count": 47,
   "metadata": {},
   "outputs": [
    {
     "name": "stdout",
     "output_type": "stream",
     "text": [
      "[3 5 7 3 5 7 7 5 7 5 4 6 9 4 1 5 4 4 9 5 9 7 6 7 8 0 5 3 6 1 8 0 1 0 9 7 1\n",
      " 2 9 2 4 5 6 2 6 9 1 9 3 2]\n",
      "5\n"
     ]
    }
   ],
   "source": [
    "# 6. Найдем наиболее частое значение в массиве\n",
    "arr = np.random.randint(0,10,50)\n",
    "print(arr)\n",
    "print(np.bincount(arr).argmax())"
   ]
  },
  {
   "cell_type": "code",
   "execution_count": 52,
   "metadata": {},
   "outputs": [
    {
     "name": "stdout",
     "output_type": "stream",
     "text": [
      "[9998 9995 9999 9996 9997]\n"
     ]
    }
   ],
   "source": [
    "# 7. Найти n наибольших значений в массиве\n",
    "\n",
    "arr = np.arange(10000)\n",
    "np.random.shuffle(arr)\n",
    "n = 5\n",
    "\n",
    "print (arr[np.argpartition(-arr,n)[:n]])"
   ]
  },
  {
   "cell_type": "code",
   "execution_count": 57,
   "metadata": {},
   "outputs": [
    {
     "name": "stdout",
     "output_type": "stream",
     "text": [
      "[[0 3 3]\n",
      " [3 4 3]\n",
      " [3 3 4]\n",
      " [1 0 4]\n",
      " [1 4 2]\n",
      " [3 1 2]\n",
      " [3 3 4]\n",
      " [1 0 1]\n",
      " [3 2 2]\n",
      " [1 3 4]]\n",
      "\n",
      "[[0 3 3]\n",
      " [3 4 3]\n",
      " [3 3 4]\n",
      " [1 0 4]\n",
      " [1 4 2]\n",
      " [3 1 2]\n",
      " [3 3 4]\n",
      " [1 0 1]\n",
      " [3 2 2]\n",
      " [1 3 4]]\n"
     ]
    }
   ],
   "source": [
    "# 8. Дана 10x3 матрица, найти строки из неравных значений (например [2,2,3])\n",
    "\n",
    "arr_one = np.random.randint(0,5, (10, 3))\n",
    "arr_two = np.logical_and.reduce(arr_one[:,1:] == arr_one[:,:-1], axis=1)\n",
    "arr_three = arr_one[~arr_two]\n",
    "\n",
    "\n",
    "print(arr_one)\n",
    "print(\"\")\n",
    "print(arr_three)"
   ]
  },
  {
   "cell_type": "code",
   "execution_count": 58,
   "metadata": {},
   "outputs": [
    {
     "name": "stdout",
     "output_type": "stream",
     "text": [
      "[[0 0 0 0 0 0 0 0]\n",
      " [0 0 0 0 0 0 0 1]\n",
      " [0 0 0 0 0 0 1 0]\n",
      " [0 0 0 0 0 0 1 1]\n",
      " [0 0 0 0 1 1 1 1]\n",
      " [0 0 0 1 0 0 0 0]\n",
      " [0 0 1 0 0 0 0 0]\n",
      " [0 1 0 0 0 0 0 0]\n",
      " [1 0 0 0 0 0 0 0]]\n"
     ]
    }
   ],
   "source": [
    "# 9. Преобразовать вектор чисел в матрицу бинарных представлений\n",
    "\n",
    "I = np.array([0, 1, 2, 3, 15, 16, 32, 64, 128], dtype=np.uint8)\n",
    "print(np.unpackbits(I[:, np.newaxis], axis=1))"
   ]
  },
  {
   "cell_type": "code",
   "execution_count": 60,
   "metadata": {},
   "outputs": [
    {
     "name": "stdout",
     "output_type": "stream",
     "text": [
      "[[0 0 0]\n",
      " [0 0 1]\n",
      " [1 0 0]\n",
      " [1 1 0]\n",
      " [1 1 1]]\n"
     ]
    }
   ],
   "source": [
    "# 10. Дан двумерный массив. Найти все различные строки\n",
    "\n",
    "Z = np.random.randint(0, 2, (6,3))\n",
    "T = np.ascontiguousarray(Z).view(np.dtype((np.void, Z.dtype.itemsize * Z.shape[1])))\n",
    "_, idx = np.unique(T, return_index=True)\n",
    "uZ = Z[idx]\n",
    "\n",
    "\n",
    "print(uZ)"
   ]
  },
  {
   "cell_type": "code",
   "execution_count": 66,
   "metadata": {},
   "outputs": [
    {
     "data": {
      "text/plain": [
       "12.0"
      ]
     },
     "execution_count": 66,
     "metadata": {},
     "output_type": "execute_result"
    }
   ],
   "source": [
    "# 11. Подсчитать среднее значение элементов в массиве в целом или вдоль оси или нескольких оси\n",
    "\n",
    "matrix.mean()"
   ]
  },
  {
   "cell_type": "code",
   "execution_count": 65,
   "metadata": {},
   "outputs": [
    {
     "data": {
      "text/plain": [
       "[[0, 1, 2, 3, 4],\n",
       " [5, 6, 7, 8, 9],\n",
       " [10, 11, 12, 13, 14],\n",
       " [15, 16, 17, 18, 19],\n",
       " [20, 21, 22, 23, 24]]"
      ]
     },
     "execution_count": 65,
     "metadata": {},
     "output_type": "execute_result"
    }
   ],
   "source": [
    "# 12. Если массив NumPy является многомерным, то будет возвращен список Python с вложенными списками. \n",
    "# Данную функцию можно считать обратной к функции создания массива из списков Python np.array([1, 2])\n",
    "\n",
    "matrix.tolist()"
   ]
  },
  {
   "cell_type": "markdown",
   "metadata": {
    "pycharm": {
     "name": "#%% md\n"
    }
   },
   "source": [
    "## **Task:** \n",
    "    2. Сгенерировать OLAP-куб, где фиксируем продажи товаров в розничной сети по магазинам.\n",
    "    Оси:\n",
    "        0: ID группы товаров\n",
    "        1: ID магазина\n",
    "        2: день месяца, в котором осуществляются продажи (предположим у нас в OLAP-кубе собраны продажи за месяц).\n",
    "\n",
    "    Содержимое ячейки: продажи в тыс. рублей данной категории товаров в данном магазине в данный день.\n",
    "\n",
    "    Рекомендуется сгенерировать статистически-правдопододные данные в ячейках.\n",
    "    К примеру, будет странно, если продажи одной и той же группы товаров в соседние дни будут представлять из \n",
    "    себя \"белый шум\". Пусть будет какой-то правдоподобное распределение на ваш вкус.\n",
    "    Также продажи одних и тех же групп товаров в разных магазинах не могут отличаться в сотни и тысячи раз,\n",
    "    максимум в разы.\n",
    "    Подумайте как это обыграть используя различные функции генерации случайных чисел + \"смекалку\"."
   ]
  },
  {
   "cell_type": "code",
   "execution_count": 102,
   "metadata": {},
   "outputs": [],
   "source": [
    "\n",
    "ID_product = np.arange(0, 10)\n",
    "ID_shop = np.arange(0, 3)\n",
    "day_month = np.arange(1, 30)\n",
    "OLAP_cube = np.zeros([ID_product.size, ID_shop.size, day_month.size])\n",
    "\n",
    "for i in range(ID_product.size):\n",
    "    for j in range(ID_shop.size):\n",
    "        for b in range(day_month.size):\n",
    "            OLAP_cube[i, j, b] = np.random.randint(1, 10)\n"
   ]
  },
  {
   "cell_type": "code",
   "execution_count": 103,
   "metadata": {},
   "outputs": [
    {
     "data": {
      "text/plain": [
       "array([[[2., 6., 3., 5., 2., 4., 1., 1., 5., 4., 9., 1., 8., 8., 1., 1.,\n",
       "         9., 5., 4., 8., 5., 1., 7., 2., 2., 6., 5., 9., 5.],\n",
       "        [4., 6., 7., 6., 4., 4., 7., 4., 1., 8., 6., 7., 5., 7., 5., 6.,\n",
       "         3., 9., 1., 8., 5., 3., 5., 9., 9., 9., 6., 3., 1.],\n",
       "        [1., 2., 1., 6., 1., 5., 4., 8., 4., 1., 5., 3., 8., 3., 3., 5.,\n",
       "         4., 9., 4., 7., 1., 6., 6., 8., 2., 2., 4., 4., 5.]],\n",
       "\n",
       "       [[3., 4., 8., 2., 4., 1., 9., 5., 7., 7., 1., 7., 1., 6., 6., 9.,\n",
       "         6., 7., 4., 8., 8., 4., 6., 8., 1., 3., 9., 3., 3.],\n",
       "        [9., 2., 8., 7., 3., 8., 7., 4., 3., 8., 6., 1., 7., 4., 3., 5.,\n",
       "         3., 8., 5., 1., 9., 7., 6., 1., 5., 7., 8., 6., 4.],\n",
       "        [9., 9., 5., 6., 3., 6., 3., 1., 5., 3., 6., 1., 8., 3., 2., 2.,\n",
       "         2., 2., 7., 7., 2., 6., 2., 8., 2., 2., 7., 2., 8.]],\n",
       "\n",
       "       [[2., 8., 6., 9., 3., 9., 9., 3., 4., 6., 6., 4., 8., 6., 8., 3.,\n",
       "         4., 2., 3., 6., 4., 6., 7., 5., 8., 9., 8., 6., 2.],\n",
       "        [2., 8., 6., 4., 8., 6., 8., 2., 7., 3., 2., 8., 9., 3., 1., 3.,\n",
       "         9., 1., 2., 1., 7., 7., 4., 2., 1., 8., 8., 9., 3.],\n",
       "        [9., 9., 8., 6., 5., 8., 5., 7., 1., 3., 7., 7., 1., 1., 3., 9.,\n",
       "         6., 2., 9., 2., 7., 5., 9., 8., 5., 4., 6., 2., 6.]],\n",
       "\n",
       "       [[8., 2., 7., 7., 9., 5., 2., 3., 4., 1., 2., 1., 9., 9., 7., 6.,\n",
       "         1., 9., 7., 2., 7., 4., 1., 1., 9., 4., 9., 4., 6.],\n",
       "        [7., 5., 6., 4., 5., 8., 8., 8., 3., 4., 8., 6., 1., 7., 1., 7.,\n",
       "         9., 8., 7., 7., 4., 9., 1., 9., 4., 8., 8., 6., 9.],\n",
       "        [3., 9., 8., 5., 6., 7., 4., 2., 1., 6., 9., 1., 9., 7., 3., 8.,\n",
       "         5., 7., 8., 4., 3., 9., 6., 9., 5., 6., 4., 6., 6.]],\n",
       "\n",
       "       [[4., 9., 4., 1., 3., 3., 4., 7., 5., 7., 2., 8., 8., 9., 1., 1.,\n",
       "         7., 6., 1., 3., 6., 7., 2., 8., 9., 7., 6., 4., 9.],\n",
       "        [1., 6., 3., 1., 8., 1., 5., 6., 9., 5., 1., 9., 5., 4., 1., 7.,\n",
       "         5., 7., 6., 6., 2., 7., 6., 2., 7., 9., 8., 6., 2.],\n",
       "        [5., 7., 9., 9., 1., 1., 1., 9., 4., 5., 4., 6., 1., 7., 7., 3.,\n",
       "         5., 9., 9., 3., 1., 8., 6., 9., 2., 9., 4., 9., 6.]],\n",
       "\n",
       "       [[2., 9., 5., 5., 7., 1., 1., 8., 7., 6., 9., 2., 9., 1., 7., 7.,\n",
       "         3., 5., 6., 9., 4., 9., 2., 9., 9., 7., 5., 5., 4.],\n",
       "        [3., 9., 6., 4., 3., 5., 9., 9., 9., 7., 6., 6., 1., 4., 3., 9.,\n",
       "         6., 2., 9., 7., 9., 2., 9., 4., 3., 9., 8., 2., 1.],\n",
       "        [5., 8., 7., 1., 8., 7., 2., 4., 8., 5., 6., 3., 7., 7., 1., 5.,\n",
       "         2., 4., 9., 6., 3., 1., 6., 7., 1., 8., 2., 9., 5.]],\n",
       "\n",
       "       [[7., 1., 9., 5., 7., 8., 4., 3., 8., 7., 1., 1., 1., 9., 8., 8.,\n",
       "         5., 9., 5., 4., 9., 1., 1., 3., 6., 1., 8., 5., 3.],\n",
       "        [4., 6., 4., 7., 5., 3., 9., 2., 7., 4., 9., 1., 7., 9., 8., 3.,\n",
       "         8., 6., 9., 9., 9., 9., 8., 7., 1., 4., 1., 5., 3.],\n",
       "        [6., 6., 4., 8., 7., 5., 4., 8., 8., 4., 3., 3., 8., 2., 6., 3.,\n",
       "         8., 7., 1., 6., 8., 5., 5., 9., 9., 6., 6., 3., 1.]],\n",
       "\n",
       "       [[7., 4., 6., 7., 5., 2., 4., 3., 1., 2., 9., 8., 9., 7., 9., 9.,\n",
       "         2., 7., 5., 8., 8., 6., 1., 4., 2., 2., 3., 5., 9.],\n",
       "        [3., 5., 2., 8., 2., 2., 3., 8., 7., 3., 6., 4., 1., 6., 3., 4.,\n",
       "         3., 9., 4., 5., 2., 1., 9., 4., 5., 3., 3., 7., 5.],\n",
       "        [7., 6., 7., 1., 8., 3., 8., 6., 5., 5., 1., 9., 3., 9., 9., 9.,\n",
       "         6., 2., 2., 5., 7., 5., 5., 5., 7., 8., 2., 3., 9.]],\n",
       "\n",
       "       [[6., 2., 2., 8., 8., 6., 1., 3., 8., 4., 6., 6., 4., 3., 3., 2.,\n",
       "         3., 5., 2., 6., 4., 1., 4., 3., 5., 6., 4., 3., 3.],\n",
       "        [7., 8., 3., 8., 5., 6., 7., 4., 8., 9., 3., 8., 6., 6., 1., 7.,\n",
       "         7., 6., 3., 3., 1., 6., 1., 4., 5., 6., 3., 2., 4.],\n",
       "        [6., 1., 4., 6., 9., 4., 1., 8., 5., 4., 6., 8., 5., 5., 1., 1.,\n",
       "         8., 9., 2., 5., 7., 8., 4., 2., 4., 5., 1., 3., 3.]],\n",
       "\n",
       "       [[7., 6., 6., 6., 5., 6., 1., 9., 2., 5., 9., 6., 5., 9., 7., 2.,\n",
       "         2., 7., 7., 4., 9., 8., 2., 8., 4., 6., 6., 5., 5.],\n",
       "        [1., 8., 9., 5., 3., 6., 5., 7., 8., 9., 3., 7., 8., 8., 4., 4.,\n",
       "         7., 7., 3., 4., 9., 5., 1., 4., 2., 4., 6., 3., 6.],\n",
       "        [6., 6., 6., 7., 1., 9., 3., 6., 7., 9., 8., 7., 7., 9., 5., 4.,\n",
       "         7., 1., 6., 3., 4., 3., 3., 5., 1., 2., 3., 5., 6.]]])"
      ]
     },
     "execution_count": 103,
     "metadata": {},
     "output_type": "execute_result"
    }
   ],
   "source": [
    "\n",
    "\n",
    "OLAP_cube\n",
    "\n"
   ]
  },
  {
   "cell_type": "markdown",
   "metadata": {
    "pycharm": {
     "name": "#%% md\n"
    }
   },
   "source": [
    "## **Task:** \n",
    "    3. Для получившегося OLAP-куба посчитать суммарные, средние, минимальные и максимальные продажи (на самом деле\n",
    "    любые агрегатные функции можно использовать)зафиксировав значения по одной, двум или трём осям:\n",
    "\n",
    "    Например взять какой-то определённый набор товаров и набор городов или диапазон дней и сагрегировать данные по\n",
    "    всем ячейкам из зафиксированного набора.\n",
    "    Пример: получить сумму, среднее, минимум и максимум по продажам 10-20 чисел месяца для товаров [1,3,4] по всем \n",
    "    городам (или по конкретному набору городов).\n",
    "\n",
    "    Попробуйте различные варианты индексации и различные варианты срезов, насколько хватит фантазии."
   ]
  },
  {
   "cell_type": "code",
   "execution_count": 128,
   "metadata": {},
   "outputs": [
    {
     "name": "stdout",
     "output_type": "stream",
     "text": [
      "Сумма продаж всех товаров в месяц:\n",
      "4515.0\n",
      "\n",
      "Сумма продаж всех товаров магазина №7 за месяц:\n",
      "4515.0\n",
      "\n",
      "Среднемесячный объем продаж магазина №2:\n",
      "5.1\n"
     ]
    }
   ],
   "source": [
    "print(\"Сумма продаж всех товаров в месяц:\")\n",
    "print( np.sum(OLAP_cube[:, :, :]))\n",
    "print(\"\")\n",
    "\n",
    "print(\"Сумма продаж всех товаров магазина №7 за месяц:\")\n",
    "print( np.sum(OLAP_cube[:, :, :]))\n",
    "print(\"\")\n",
    "\n",
    "print(\"Среднемесячный объем продаж магазина №2:\")\n",
    "print(round(np.mean(OLAP_cube[:, 2, 1:28]),2))\n"
   ]
  },
  {
   "cell_type": "markdown",
   "metadata": {
    "pycharm": {
     "name": "#%% md\n"
    }
   },
   "source": [
    "![olap-cube](http://www.olap.ru/basic/img/alpero2i2.gif)"
   ]
  }
 ],
 "metadata": {
  "kernelspec": {
   "display_name": "Python 3 (ipykernel)",
   "language": "python",
   "name": "python3"
  },
  "language_info": {
   "codemirror_mode": {
    "name": "ipython",
    "version": 3
   },
   "file_extension": ".py",
   "mimetype": "text/x-python",
   "name": "python",
   "nbconvert_exporter": "python",
   "pygments_lexer": "ipython3",
   "version": "3.9.7"
  }
 },
 "nbformat": 4,
 "nbformat_minor": 1
}
