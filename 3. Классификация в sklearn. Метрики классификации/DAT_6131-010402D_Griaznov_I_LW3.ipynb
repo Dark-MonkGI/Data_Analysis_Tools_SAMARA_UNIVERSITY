{
 "cells": [
  {
   "cell_type": "markdown",
   "metadata": {},
   "source": [
    "# Laboratory work  3\n",
    "**Классификация в sklearn. Метрики классификации**\n",
    "\n",
    "Completed: гр.№ 6131-010402D, Griaznov Ilia"
   ]
  },
  {
   "cell_type": "code",
   "execution_count": 1,
   "metadata": {},
   "outputs": [],
   "source": [
    "import pandas as pd\n",
    "pd.options.display.max_columns = 999\n",
    "import numpy as np\n",
    "import matplotlib.pyplot as plt\n",
    "import seaborn as sns\n",
    "from sklearn.model_selection import train_test_split, cross_val_score, GridSearchCV, StratifiedKFold\n",
    "from sklearn.ensemble import RandomForestClassifier\n",
    "from sklearn.preprocessing import MinMaxScaler, StandardScaler\n",
    "from sklearn.metrics import plot_confusion_matrix\n",
    "from sklearn.tree import DecisionTreeClassifier\n",
    "from sklearn.linear_model import LogisticRegression\n",
    "from tqdm import tqdm\n",
    "import plotly.express as px\n",
    "from sklearn.metrics import accuracy_score, f1_score, recall_score, precision_score, f1_score,classification_report, confusion_matrix\n",
    "\n",
    "import warnings\n",
    "import sys  \n",
    "if not sys.warnoptions:\n",
    "    warnings.simplefilter(\"ignore\")"
   ]
  },
  {
   "cell_type": "markdown",
   "metadata": {},
   "source": [
    "**1. Многоклассовая классификация:**"
   ]
  },
  {
   "cell_type": "markdown",
   "metadata": {},
   "source": [
    "1.1 На любом датасете продемонстрировать многоклассовую классификацию с помощью ЛЮБОГО алгоритма. Оценить accuracy.\n",
    "\n",
    "1.2. То же самое с использованием кросс-валидации\n",
    "\n",
    "1.3. Поиграться с гиперпараметром, связанным со сложностью модели (в случае kNN — k_neighbours) и построить график accuracy для train set и test_set для разных значений гиперпараметра (в лекции есть пример построения подобного графика для kNN и датасета cancer, но можно строить как угодно такой график)\n",
    "\n",
    "1.4. Построить confusion matrix (это вроде матрицы TN / TP/ FN/ FP, только расширенной для многоклассовой классификации, чтобы понять в какие стороны чаще ошибается классификатор). ([пример](https://scikit-learn.org/stable/auto_examples/model_selection/plot_confusion_matrix.html)):"
   ]
  },
  {
   "cell_type": "markdown",
   "metadata": {},
   "source": [
    "####  Описание данных `Mobile Price Classification`\n",
    "\n",
    "**Исходные данные:** https://www.kaggle.com/iabhishekofficial/mobile-price-classification?select=test.csv <br><br>\n",
    "**Набор данных: \"Классификация мобильных телефонов по цене\"**<br>\n",
    "Context\n",
    "\n",
    "Боб основал свою собственную мобильную компанию. Он хочет дать жесткий бой крупным компаниям, таким как Apple, Samsung и т. д.\n",
    "\n",
    "Он не знает, как оценить стоимость мобильных телефонов, которые производит его компания. На этом конкурентном рынке мобильных телефонов вы не можете просто предполагать. Для решения этой проблемы он собирает данные о продажах мобильных телефонов различных компаний.\n",
    "\n",
    "Боб хочет выяснить какую-то связь между характеристиками мобильного телефона (например: оперативная память, внутренняя память и т. д.) и его продажной ценой. Но он не так хорош в машинном обучении. Поэтому ему нужна ваша помощь, чтобы решить эту проблему.\n",
    "\n",
    "В этой задаче вам не нужно предсказывать фактическую цену, а нужно предсказать диапазон цен, указывающий, насколько высока цена. "
   ]
  },
  {
   "cell_type": "code",
   "execution_count": 2,
   "metadata": {},
   "outputs": [
    {
     "name": "stdout",
     "output_type": "stream",
     "text": [
      "   battery_power  blue  clock_speed  dual_sim  fc  four_g  int_memory  m_dep  \\\n",
      "0            842     0          2.2         0   1       0           7    0.6   \n",
      "1           1021     1          0.5         1   0       1          53    0.7   \n",
      "2            563     1          0.5         1   2       1          41    0.9   \n",
      "3            615     1          2.5         0   0       0          10    0.8   \n",
      "4           1821     1          1.2         0  13       1          44    0.6   \n",
      "5           1859     0          0.5         1   3       0          22    0.7   \n",
      "6           1821     0          1.7         0   4       1          10    0.8   \n",
      "7           1954     0          0.5         1   0       0          24    0.8   \n",
      "8           1445     1          0.5         0   0       0          53    0.7   \n",
      "9            509     1          0.6         1   2       1           9    0.1   \n",
      "\n",
      "   mobile_wt  n_cores  pc  px_height  px_width   ram  sc_h  sc_w  talk_time  \\\n",
      "0        188        2   2         20       756  2549     9     7         19   \n",
      "1        136        3   6        905      1988  2631    17     3          7   \n",
      "2        145        5   6       1263      1716  2603    11     2          9   \n",
      "3        131        6   9       1216      1786  2769    16     8         11   \n",
      "4        141        2  14       1208      1212  1411     8     2         15   \n",
      "5        164        1   7       1004      1654  1067    17     1         10   \n",
      "6        139        8  10        381      1018  3220    13     8         18   \n",
      "7        187        4   0        512      1149   700    16     3          5   \n",
      "8        174        7  14        386       836  1099    17     1         20   \n",
      "9         93        5  15       1137      1224   513    19    10         12   \n",
      "\n",
      "   three_g  touch_screen  wifi  price_range  \n",
      "0        0             0     1            1  \n",
      "1        1             1     0            2  \n",
      "2        1             1     0            2  \n",
      "3        1             0     0            2  \n",
      "4        1             1     0            1  \n",
      "5        1             0     0            1  \n",
      "6        1             0     1            3  \n",
      "7        1             1     1            0  \n",
      "8        1             0     0            0  \n",
      "9        1             0     0            0  \n",
      "shape:  (2000, 21)\n"
     ]
    }
   ],
   "source": [
    "data = pd.read_csv(r'train.csv')\n",
    "print(data.head(10))\n",
    "print('shape: ', data.shape)"
   ]
  },
  {
   "cell_type": "markdown",
   "metadata": {},
   "source": [
    "**Классификация (Decision tree)**\n"
   ]
  },
  {
   "cell_type": "code",
   "execution_count": 3,
   "metadata": {},
   "outputs": [
    {
     "data": {
      "image/png": "[encoded data removed]",
      "text/plain": [
       "<Figure size 1080x360 with 1 Axes>"
      ]
     },
     "metadata": {
      "needs_background": "light"
     },
     "output_type": "display_data"
    }
   ],
   "source": [
    "fig, ax = plt.subplots(figsize=(15,5))\n",
    "sns.countplot(data['price_range'], palette='pastel')\n",
    "ax.set(title='Ценовой диапазон')\n",
    "plt.show()"
   ]
  },
  {
   "cell_type": "markdown",
   "metadata": {},
   "source": [
    "Целевая переменная хорошо сбалансирована"
   ]
  },
  {
   "cell_type": "markdown",
   "metadata": {},
   "source": [
    "#### Посмотрим корреляцию между признаками:"
   ]
  },
  {
   "cell_type": "code",
   "execution_count": 4,
   "metadata": {},
   "outputs": [
    {
     "data": {
      "image/png": "[encoded data removed]",
      "text/plain": [
       "<Figure size 720x720 with 2 Axes>"
      ]
     },
     "metadata": {
      "needs_background": "light"
     },
     "output_type": "display_data"
    }
   ],
   "source": [
    "stars_features = {\n",
    "    'battery_power': data['battery_power'],\n",
    "    'Mobile_Depth': data['m_dep'],\n",
    "    'clock_speed': data['clock_speed'],\n",
    "    'int_memory': data['int_memory'],\n",
    "    'price_range': data['price_range'],\n",
    "    'blue': data['blue'],\n",
    "    'talk_time': data['talk_time']\n",
    "}\n",
    "\n",
    "stars_features = pd.DataFrame.from_dict(stars_features)\n",
    "stars_features['price_range'] = stars_features['price_range'].astype('category').cat.codes\n",
    "stars_features['blue'] = stars_features['blue'].astype('category').cat.codes\n",
    "stars_features['talk_time'] = stars_features['talk_time'].astype('category').cat.codes\n",
    "\n",
    "corr = stars_features.corr(method='spearman')\n",
    "mask = np.zeros_like(corr, dtype=np.bool)\n",
    "mask[np.triu_indices_from(mask)] = True\n",
    "f, ax = plt.subplots(figsize=(10, 10))\n",
    "cmap = sns.diverging_palette(10, 150, 50, as_cmap=True)\n",
    "sns.heatmap(corr, \n",
    "            mask=mask, \n",
    "            cmap=cmap, \n",
    "            square=True, \n",
    "            linewidths=.5, \n",
    "            cbar_kws={\"shrink\": .5},\n",
    "            annot=True)\n",
    "plt.show()"
   ]
  },
  {
   "cell_type": "markdown",
   "metadata": {},
   "source": [
    "Целевая переменная нормально коррелирует с признаками luminosuty, radius, absolute_magnitude"
   ]
  },
  {
   "cell_type": "markdown",
   "metadata": {},
   "source": [
    "#### Параметры для дерева решений"
   ]
  },
  {
   "cell_type": "code",
   "execution_count": 5,
   "metadata": {},
   "outputs": [],
   "source": [
    "params = dict(max_depth = np.linspace(1, 32, 32, endpoint=True), \n",
    "                      min_samples_split = np.linspace(0.01, 0.1, 10, endpoint=True),\n",
    "                      min_samples_leaf = np.linspace(0.01, 0.1, 10, endpoint=True)\n",
    "                      )"
   ]
  },
  {
   "cell_type": "markdown",
   "metadata": {},
   "source": [
    "#### Поиск лучших гиперпараметров"
   ]
  },
  {
   "cell_type": "code",
   "execution_count": 6,
   "metadata": {},
   "outputs": [],
   "source": [
    "def do_grid_search(model,params, x_train, y_train, x_test, refit='accuracy'):\n",
    "    cv = StratifiedKFold(n_splits=5, random_state=42, shuffle=True)\n",
    "    grid_search = GridSearchCV(model, params, scoring=['accuracy'], \n",
    "                                n_jobs=4, cv=cv, verbose=3, refit=refit) \n",
    "    grid_search.fit(x_train.values, y_train.values)\n",
    "    y_pred = grid_search.predict(x_test.values)\n",
    "    print('Best params for {}'.format(refit))\n",
    "    print(grid_search.best_params_)"
   ]
  },
  {
   "cell_type": "markdown",
   "metadata": {},
   "source": [
    "#### Вывод результата"
   ]
  },
  {
   "cell_type": "code",
   "execution_count": 7,
   "metadata": {},
   "outputs": [],
   "source": [
    "def print_result(y_test, pred=None):\n",
    "  print(\"результат классификации: \\n\", classification_report(y_test, pred))\n",
    "  conf_matrix = confusion_matrix(y_test, pred)\n",
    "  print(\"Матрица ошибок: \\n\", conf_matrix, \"\\n\")\n",
    "  cmap = sns.diverging_palette(220, 10, 50, as_cmap=True)\n",
    "  sns.heatmap(conf_matrix, cmap = cmap, annot=True)\n",
    "  plt.show()"
   ]
  },
  {
   "cell_type": "code",
   "execution_count": 8,
   "metadata": {},
   "outputs": [],
   "source": [
    "X_train, X_test, y_train, y_test = train_test_split(stars_features.drop('price_range',axis=1), stars_features['price_range'], test_size=0.6, random_state=42)"
   ]
  },
  {
   "cell_type": "markdown",
   "metadata": {},
   "source": [
    "**Без настройки гиперпараметров**"
   ]
  },
  {
   "cell_type": "code",
   "execution_count": 9,
   "metadata": {},
   "outputs": [
    {
     "name": "stdout",
     "output_type": "stream",
     "text": [
      "результат классификации: \n",
      "               precision    recall  f1-score   support\n",
      "\n",
      "           0       0.25      0.25      0.25       305\n",
      "           1       0.24      0.26      0.25       304\n",
      "           2       0.26      0.24      0.25       300\n",
      "           3       0.21      0.21      0.21       291\n",
      "\n",
      "    accuracy                           0.24      1200\n",
      "   macro avg       0.24      0.24      0.24      1200\n",
      "weighted avg       0.24      0.24      0.24      1200\n",
      "\n",
      "Матрица ошибок: \n",
      " [[76 82 73 74]\n",
      " [83 78 66 77]\n",
      " [69 82 73 76]\n",
      " [78 81 71 61]] \n",
      "\n"
     ]
    },
    {
     "data": {
      "image/png": "[encoded data removed]",
      "text/plain": [
       "<Figure size 432x288 with 2 Axes>"
      ]
     },
     "metadata": {
      "needs_background": "light"
     },
     "output_type": "display_data"
    },
    {
     "name": "stdout",
     "output_type": "stream",
     "text": [
      "Средняя точность без настройки гиперпараметров:  0.27875000000000005\n"
     ]
    }
   ],
   "source": [
    "dtree = DecisionTreeClassifier(random_state=42)\n",
    "dtree.fit(X_train, y_train)\n",
    "predictions = dtree.predict(X_test)\n",
    "\n",
    "print_result(y_test=y_test, pred=predictions)\n",
    "score = cross_val_score(dtree, X_train, y_train, cv=5, scoring='accuracy')\n",
    "print('Средняя точность без настройки гиперпараметров: ', np.mean(score))"
   ]
  },
  {
   "cell_type": "markdown",
   "metadata": {},
   "source": [
    "### Настройка гиперпараметров"
   ]
  },
  {
   "cell_type": "code",
   "execution_count": 10,
   "metadata": {},
   "outputs": [
    {
     "name": "stdout",
     "output_type": "stream",
     "text": [
      "Fitting 5 folds for each of 3200 candidates, totalling 16000 fits\n",
      "Best params for accuracy\n",
      "{'max_depth': 1.0, 'min_samples_leaf': 0.01, 'min_samples_split': 0.01}\n"
     ]
    }
   ],
   "source": [
    "do_grid_search(model=dtree,  params=params, x_train=X_train, y_train=y_train, x_test=X_test)"
   ]
  },
  {
   "cell_type": "code",
   "execution_count": 11,
   "metadata": {},
   "outputs": [
    {
     "name": "stdout",
     "output_type": "stream",
     "text": [
      "результат классификации: \n",
      "               precision    recall  f1-score   support\n",
      "\n",
      "           0       0.29      0.40      0.34       305\n",
      "           1       0.25      0.18      0.21       304\n",
      "           2       0.27      0.09      0.14       300\n",
      "           3       0.30      0.49      0.37       291\n",
      "\n",
      "    accuracy                           0.29      1200\n",
      "   macro avg       0.28      0.29      0.26      1200\n",
      "weighted avg       0.28      0.29      0.26      1200\n",
      "\n",
      "Матрица ошибок: \n",
      " [[121  62  36  86]\n",
      " [105  54  17 128]\n",
      " [104  52  28 116]\n",
      " [ 83  44  21 143]] \n",
      "\n"
     ]
    },
    {
     "data": {
      "image/png": "[encoded data removed]",
      "text/plain": [
       "<Figure size 432x288 with 2 Axes>"
      ]
     },
     "metadata": {
      "needs_background": "light"
     },
     "output_type": "display_data"
    },
    {
     "name": "stdout",
     "output_type": "stream",
     "text": [
      "Средняя точность с настройкой гиперпараметров GridSearch:  0.24875000000000003\n"
     ]
    }
   ],
   "source": [
    "dtree_grid = DecisionTreeClassifier(random_state=42, max_depth=4.0, min_samples_leaf=0.01, min_samples_split=0.01)\n",
    "\n",
    "print_result(y_test=y_test, pred=dtree_grid.fit(X_train, y_train).predict(X_test))\n",
    "score = cross_val_score(dtree_grid, X_train, y_train, cv=5, scoring='accuracy')\n",
    "print('Средняя точность с настройкой гиперпараметров GridSearch: ', np.mean(score))"
   ]
  },
  {
   "cell_type": "code",
   "execution_count": 12,
   "metadata": {},
   "outputs": [],
   "source": [
    "max_depth = np.linspace(1, 32, 32, endpoint=True)\n",
    "accuracy_result = []\n",
    "cv_result = []\n",
    "for md in max_depth:\n",
    "  model = DecisionTreeClassifier(random_state=42, max_depth=md)\n",
    "  model.fit(X_train ,y_train)\n",
    "  model_pred = model.predict(X_test)\n",
    "  accuracy_result.append(accuracy_score(y_test, model_pred))\n",
    "  scores = cross_val_score(model, X_train, y_train, cv=5)\n",
    "  cv_result.append(np.mean(scores))"
   ]
  },
  {
   "cell_type": "code",
   "execution_count": 13,
   "metadata": {},
   "outputs": [
    {
     "data": {
      "image/png": "[encoded data removed]",
      "text/plain": [
       "<Figure size 432x288 with 1 Axes>"
      ]
     },
     "metadata": {
      "needs_background": "light"
     },
     "output_type": "display_data"
    }
   ],
   "source": [
    "plt.plot(max_depth, accuracy_result, color='b', label='Accuracy', alpha=0.7)\n",
    "plt.plot(max_depth, cv_result, color='r', label='CV accuracy', alpha=0.7)\n",
    "plt.title('Train-Test accuracy vs CV accuracy')\n",
    "plt.xlabel('max depth'); plt.ylabel('accuracy')\n",
    "plt.legend()\n",
    "plt.show()"
   ]
  },
  {
   "cell_type": "markdown",
   "metadata": {},
   "source": [
    "Рост точности происходит, к сожалению, не велик. Точность остановилась на 15"
   ]
  },
  {
   "cell_type": "code",
   "execution_count": 14,
   "metadata": {},
   "outputs": [],
   "source": [
    "accuracy_result_train, accuracy_result_test = [],[]\n",
    "for md in max_depth:\n",
    "  model = DecisionTreeClassifier(random_state=42, max_depth=md)\n",
    "  model.fit(X_train ,y_train)\n",
    "  model_pred = model.predict(X_train)\n",
    "  accuracy_result_train.append(accuracy_score(y_train, model_pred))\n",
    "\n",
    "  model.fit(X_test ,y_test)\n",
    "  model_pred = model.predict(X_test)\n",
    "  accuracy_result_test.append(accuracy_score(y_test, model_pred))"
   ]
  },
  {
   "cell_type": "code",
   "execution_count": 15,
   "metadata": {},
   "outputs": [
    {
     "data": {
      "image/png": "[encoded data removed]",
      "text/plain": [
       "<Figure size 432x288 with 1 Axes>"
      ]
     },
     "metadata": {
      "needs_background": "light"
     },
     "output_type": "display_data"
    }
   ],
   "source": [
    "plt.plot(max_depth, accuracy_result_test, color='b', label='Test', alpha=0.7)\n",
    "plt.plot(max_depth, accuracy_result_train, color='r', label='Train', alpha=0.7)\n",
    "plt.title('Train vs Test accuracy')\n",
    "plt.xlabel('max depth'); plt.ylabel('accuracy')\n",
    "plt.legend()\n",
    "plt.show()"
   ]
  },
  {
   "cell_type": "markdown",
   "metadata": {},
   "source": [
    "Настройка гиперпараметров поиском по сетке показывает себя с более лушчей стороны.\n",
    "Максимальная точность на 15"
   ]
  },
  {
   "cell_type": "markdown",
   "metadata": {},
   "source": [
    "### Масштабирование признаков"
   ]
  },
  {
   "cell_type": "code",
   "execution_count": 16,
   "metadata": {},
   "outputs": [],
   "source": [
    "scaler = StandardScaler()\n",
    "X_train_scaled = scaler.fit_transform(X_train)\n",
    "X_test_scaled = scaler.transform(X_test)"
   ]
  },
  {
   "cell_type": "code",
   "execution_count": 17,
   "metadata": {},
   "outputs": [
    {
     "name": "stdout",
     "output_type": "stream",
     "text": [
      "результат классификации: \n",
      "               precision    recall  f1-score   support\n",
      "\n",
      "           0       0.25      0.25      0.25       305\n",
      "           1       0.25      0.26      0.26       304\n",
      "           2       0.25      0.24      0.25       300\n",
      "           3       0.21      0.21      0.21       291\n",
      "\n",
      "    accuracy                           0.24      1200\n",
      "   macro avg       0.24      0.24      0.24      1200\n",
      "weighted avg       0.24      0.24      0.24      1200\n",
      "\n",
      "Матрица ошибок: \n",
      " [[77 79 75 74]\n",
      " [81 80 66 77]\n",
      " [71 80 72 77]\n",
      " [79 77 73 62]] \n",
      "\n"
     ]
    },
    {
     "data": {
      "image/png": "[encoded data removed]",
      "text/plain": [
       "<Figure size 432x288 with 2 Axes>"
      ]
     },
     "metadata": {
      "needs_background": "light"
     },
     "output_type": "display_data"
    },
    {
     "name": "stdout",
     "output_type": "stream",
     "text": [
      "Средняя точность с масштабируемыми признаками:  0.27874999999999994\n"
     ]
    }
   ],
   "source": [
    "dtree_scaled = DecisionTreeClassifier(random_state=42)\n",
    "\n",
    "print_result(y_test=y_test, pred=dtree_scaled.fit(X_train_scaled, y_train).predict(X_test_scaled))\n",
    "score = cross_val_score(dtree_scaled, X_train_scaled, y_train, cv=5, scoring='accuracy')\n",
    "print('Средняя точность с масштабируемыми признаками: ', np.mean(score))"
   ]
  },
  {
   "cell_type": "markdown",
   "metadata": {},
   "source": [
    "**2. Бинарная классификация.**"
   ]
  },
  {
   "cell_type": "markdown",
   "metadata": {},
   "source": [
    "На любом (но уже другом, бинарном) датасете продемонстрировать бинарную классификацию (можно использовать любой алгоритм), посчитать метрики: accuracy, precision, recall, f-measure, а также составить `classification_report`"
   ]
  },
  {
   "cell_type": "markdown",
   "metadata": {},
   "source": [
    "## Описание данных"
   ]
  },
  {
   "cell_type": "markdown",
   "metadata": {},
   "source": [
    "**Исходные данные:** https://www.kaggle.com/nareshbhat/wine-quality-binary-classification <br><br>\n",
    "**Набор данных: классификация качества вина** <br>\n",
    "Этот набор данных содержит информацию, касающуюся красного вина, различных факторов, влияющих на качество.\n",
    "\n",
    "Входные переменные (на основе физико-химических тестов): \n",
    "-  фиксированная кислотность \n",
    "-  летучая кислотность \n",
    "-  лимонная кислота \n",
    "-  остаточный сахар \n",
    "-  хлориды \n",
    "-  свободный диоксид серы \n",
    "-  диоксид серы общий \n",
    "-  плотность \n",
    "-  pH \n",
    "-  сульфаты \n",
    "-  алкоголь \n",
    "\n",
    "Выходная переменная (на основе сенсорных данных): \n",
    "-  качество («хорошо» и «плохо» по баллам> 5 и <5)"
   ]
  },
  {
   "cell_type": "code",
   "execution_count": 18,
   "metadata": {},
   "outputs": [
    {
     "data": {
      "text/html": [
       "<div>\n",
       "<style scoped>\n",
       "    .dataframe tbody tr th:only-of-type {\n",
       "        vertical-align: middle;\n",
       "    }\n",
       "\n",
       "    .dataframe tbody tr th {\n",
       "        vertical-align: top;\n",
       "    }\n",
       "\n",
       "    .dataframe thead th {\n",
       "        text-align: right;\n",
       "    }\n",
       "</style>\n",
       "<table border=\"1\" class=\"dataframe\">\n",
       "  <thead>\n",
       "    <tr style=\"text-align: right;\">\n",
       "      <th></th>\n",
       "      <th>fixed acidity</th>\n",
       "      <th>volatile acidity</th>\n",
       "      <th>citric acid</th>\n",
       "      <th>residual sugar</th>\n",
       "      <th>chlorides</th>\n",
       "      <th>free sulfur dioxide</th>\n",
       "      <th>total sulfur dioxide</th>\n",
       "      <th>density</th>\n",
       "      <th>pH</th>\n",
       "      <th>sulphates</th>\n",
       "      <th>alcohol</th>\n",
       "      <th>quality</th>\n",
       "    </tr>\n",
       "  </thead>\n",
       "  <tbody>\n",
       "    <tr>\n",
       "      <th>0</th>\n",
       "      <td>7.4</td>\n",
       "      <td>0.70</td>\n",
       "      <td>0.00</td>\n",
       "      <td>1.9</td>\n",
       "      <td>0.076</td>\n",
       "      <td>11.0</td>\n",
       "      <td>34.0</td>\n",
       "      <td>0.9978</td>\n",
       "      <td>3.51</td>\n",
       "      <td>0.56</td>\n",
       "      <td>9.4</td>\n",
       "      <td>bad</td>\n",
       "    </tr>\n",
       "    <tr>\n",
       "      <th>1</th>\n",
       "      <td>7.8</td>\n",
       "      <td>0.88</td>\n",
       "      <td>0.00</td>\n",
       "      <td>2.6</td>\n",
       "      <td>0.098</td>\n",
       "      <td>25.0</td>\n",
       "      <td>67.0</td>\n",
       "      <td>0.9968</td>\n",
       "      <td>3.20</td>\n",
       "      <td>0.68</td>\n",
       "      <td>9.8</td>\n",
       "      <td>bad</td>\n",
       "    </tr>\n",
       "    <tr>\n",
       "      <th>2</th>\n",
       "      <td>7.8</td>\n",
       "      <td>0.76</td>\n",
       "      <td>0.04</td>\n",
       "      <td>2.3</td>\n",
       "      <td>0.092</td>\n",
       "      <td>15.0</td>\n",
       "      <td>54.0</td>\n",
       "      <td>0.9970</td>\n",
       "      <td>3.26</td>\n",
       "      <td>0.65</td>\n",
       "      <td>9.8</td>\n",
       "      <td>bad</td>\n",
       "    </tr>\n",
       "    <tr>\n",
       "      <th>3</th>\n",
       "      <td>11.2</td>\n",
       "      <td>0.28</td>\n",
       "      <td>0.56</td>\n",
       "      <td>1.9</td>\n",
       "      <td>0.075</td>\n",
       "      <td>17.0</td>\n",
       "      <td>60.0</td>\n",
       "      <td>0.9980</td>\n",
       "      <td>3.16</td>\n",
       "      <td>0.58</td>\n",
       "      <td>9.8</td>\n",
       "      <td>good</td>\n",
       "    </tr>\n",
       "    <tr>\n",
       "      <th>4</th>\n",
       "      <td>7.4</td>\n",
       "      <td>0.70</td>\n",
       "      <td>0.00</td>\n",
       "      <td>1.9</td>\n",
       "      <td>0.076</td>\n",
       "      <td>11.0</td>\n",
       "      <td>34.0</td>\n",
       "      <td>0.9978</td>\n",
       "      <td>3.51</td>\n",
       "      <td>0.56</td>\n",
       "      <td>9.4</td>\n",
       "      <td>bad</td>\n",
       "    </tr>\n",
       "    <tr>\n",
       "      <th>5</th>\n",
       "      <td>7.4</td>\n",
       "      <td>0.66</td>\n",
       "      <td>0.00</td>\n",
       "      <td>1.8</td>\n",
       "      <td>0.075</td>\n",
       "      <td>13.0</td>\n",
       "      <td>40.0</td>\n",
       "      <td>0.9978</td>\n",
       "      <td>3.51</td>\n",
       "      <td>0.56</td>\n",
       "      <td>9.4</td>\n",
       "      <td>bad</td>\n",
       "    </tr>\n",
       "    <tr>\n",
       "      <th>6</th>\n",
       "      <td>7.9</td>\n",
       "      <td>0.60</td>\n",
       "      <td>0.06</td>\n",
       "      <td>1.6</td>\n",
       "      <td>0.069</td>\n",
       "      <td>15.0</td>\n",
       "      <td>59.0</td>\n",
       "      <td>0.9964</td>\n",
       "      <td>3.30</td>\n",
       "      <td>0.46</td>\n",
       "      <td>9.4</td>\n",
       "      <td>bad</td>\n",
       "    </tr>\n",
       "    <tr>\n",
       "      <th>7</th>\n",
       "      <td>7.3</td>\n",
       "      <td>0.65</td>\n",
       "      <td>0.00</td>\n",
       "      <td>1.2</td>\n",
       "      <td>0.065</td>\n",
       "      <td>15.0</td>\n",
       "      <td>21.0</td>\n",
       "      <td>0.9946</td>\n",
       "      <td>3.39</td>\n",
       "      <td>0.47</td>\n",
       "      <td>10.0</td>\n",
       "      <td>good</td>\n",
       "    </tr>\n",
       "    <tr>\n",
       "      <th>8</th>\n",
       "      <td>7.8</td>\n",
       "      <td>0.58</td>\n",
       "      <td>0.02</td>\n",
       "      <td>2.0</td>\n",
       "      <td>0.073</td>\n",
       "      <td>9.0</td>\n",
       "      <td>18.0</td>\n",
       "      <td>0.9968</td>\n",
       "      <td>3.36</td>\n",
       "      <td>0.57</td>\n",
       "      <td>9.5</td>\n",
       "      <td>good</td>\n",
       "    </tr>\n",
       "    <tr>\n",
       "      <th>9</th>\n",
       "      <td>7.5</td>\n",
       "      <td>0.50</td>\n",
       "      <td>0.36</td>\n",
       "      <td>6.1</td>\n",
       "      <td>0.071</td>\n",
       "      <td>17.0</td>\n",
       "      <td>102.0</td>\n",
       "      <td>0.9978</td>\n",
       "      <td>3.35</td>\n",
       "      <td>0.80</td>\n",
       "      <td>10.5</td>\n",
       "      <td>bad</td>\n",
       "    </tr>\n",
       "  </tbody>\n",
       "</table>\n",
       "</div>"
      ],
      "text/plain": [
       "   fixed acidity  volatile acidity  citric acid  residual sugar  chlorides  \\\n",
       "0            7.4              0.70         0.00             1.9      0.076   \n",
       "1            7.8              0.88         0.00             2.6      0.098   \n",
       "2            7.8              0.76         0.04             2.3      0.092   \n",
       "3           11.2              0.28         0.56             1.9      0.075   \n",
       "4            7.4              0.70         0.00             1.9      0.076   \n",
       "5            7.4              0.66         0.00             1.8      0.075   \n",
       "6            7.9              0.60         0.06             1.6      0.069   \n",
       "7            7.3              0.65         0.00             1.2      0.065   \n",
       "8            7.8              0.58         0.02             2.0      0.073   \n",
       "9            7.5              0.50         0.36             6.1      0.071   \n",
       "\n",
       "   free sulfur dioxide  total sulfur dioxide  density    pH  sulphates  \\\n",
       "0                 11.0                  34.0   0.9978  3.51       0.56   \n",
       "1                 25.0                  67.0   0.9968  3.20       0.68   \n",
       "2                 15.0                  54.0   0.9970  3.26       0.65   \n",
       "3                 17.0                  60.0   0.9980  3.16       0.58   \n",
       "4                 11.0                  34.0   0.9978  3.51       0.56   \n",
       "5                 13.0                  40.0   0.9978  3.51       0.56   \n",
       "6                 15.0                  59.0   0.9964  3.30       0.46   \n",
       "7                 15.0                  21.0   0.9946  3.39       0.47   \n",
       "8                  9.0                  18.0   0.9968  3.36       0.57   \n",
       "9                 17.0                 102.0   0.9978  3.35       0.80   \n",
       "\n",
       "   alcohol quality  \n",
       "0      9.4     bad  \n",
       "1      9.8     bad  \n",
       "2      9.8     bad  \n",
       "3      9.8    good  \n",
       "4      9.4     bad  \n",
       "5      9.4     bad  \n",
       "6      9.4     bad  \n",
       "7     10.0    good  \n",
       "8      9.5    good  \n",
       "9     10.5     bad  "
      ]
     },
     "execution_count": 18,
     "metadata": {},
     "output_type": "execute_result"
    }
   ],
   "source": [
    "wine_data = pd.read_csv('wine.csv')\n",
    "wine_data.head(10)"
   ]
  },
  {
   "cell_type": "markdown",
   "metadata": {},
   "source": [
    "-----------\n",
    "## Классификация (Логистическая регрессия)\n",
    "---------"
   ]
  },
  {
   "cell_type": "code",
   "execution_count": 19,
   "metadata": {},
   "outputs": [],
   "source": [
    "wine_data = wine_data.replace(['good', 'bad'], [0,1])\n",
    "target = wine_data.quality\n",
    "features = wine_data.drop(['quality'], axis=1)"
   ]
  },
  {
   "cell_type": "code",
   "execution_count": 20,
   "metadata": {},
   "outputs": [],
   "source": [
    "X_train, X_test, y_train, y_test = train_test_split(features, target, test_size=0.3, random_state=42, shuffle=True)"
   ]
  },
  {
   "cell_type": "markdown",
   "metadata": {},
   "source": [
    "### Без настройки гиперпараметров"
   ]
  },
  {
   "cell_type": "code",
   "execution_count": 21,
   "metadata": {},
   "outputs": [
    {
     "name": "stdout",
     "output_type": "stream",
     "text": [
      "результат классификации: \n",
      "               precision    recall  f1-score   support\n",
      "\n",
      "           0       0.77      0.72      0.75       267\n",
      "           1       0.68      0.73      0.70       213\n",
      "\n",
      "    accuracy                           0.73       480\n",
      "   macro avg       0.72      0.73      0.72       480\n",
      "weighted avg       0.73      0.72      0.73       480\n",
      "\n",
      "Матрица ошибок: \n",
      " [[193  74]\n",
      " [ 58 155]] \n",
      "\n"
     ]
    },
    {
     "data": {
      "image/png": "[encoded data removed]",
      "text/plain": [
       "<Figure size 432x288 with 2 Axes>"
      ]
     },
     "metadata": {
      "needs_background": "light"
     },
     "output_type": "display_data"
    }
   ],
   "source": [
    "lr = LogisticRegression(random_state=42, solver='newton-cg')\n",
    "lr.fit(X_train ,y_train)\n",
    "lr_pred = lr.predict(X_test)\n",
    "\n",
    "print_result(y_test=y_test, pred=lr_pred)"
   ]
  },
  {
   "cell_type": "code",
   "execution_count": 22,
   "metadata": {},
   "outputs": [
    {
     "name": "stdout",
     "output_type": "stream",
     "text": [
      "Средняя оценка точности:  0.7560898462524023\n"
     ]
    }
   ],
   "source": [
    "scores = cross_val_score(lr, X_train, y_train, cv=5)\n",
    "print('Средняя оценка точности: ', np.mean(scores))"
   ]
  },
  {
   "cell_type": "markdown",
   "metadata": {},
   "source": [
    "### С настройкой"
   ]
  },
  {
   "cell_type": "code",
   "execution_count": 23,
   "metadata": {},
   "outputs": [],
   "source": [
    "penalties = ['l2', 'none']\n",
    "accuracy_result = []\n",
    "cv_result = []\n",
    "for penalty in penalties:\n",
    "  # для 'newton-cg' возможно испльзование только 'l2' или 'none' в качестве параметров\n",
    "  model = LogisticRegression(random_state=42, solver='newton-cg', penalty=penalty)\n",
    "  model.fit(X_train ,y_train)\n",
    "  model_pred = model.predict(X_test)\n",
    "  accuracy_result.append(accuracy_score(y_test, model_pred))\n",
    "  scores = cross_val_score(model, X_train, y_train, cv=5)\n",
    "  cv_result.append(np.mean(scores))"
   ]
  },
  {
   "cell_type": "code",
   "execution_count": 24,
   "metadata": {},
   "outputs": [
    {
     "data": {
      "image/png": "[encoded data removed]",
      "text/plain": [
       "<Figure size 432x288 with 1 Axes>"
      ]
     },
     "metadata": {
      "needs_background": "light"
     },
     "output_type": "display_data"
    }
   ],
   "source": [
    "plt.plot(penalties, accuracy_result, color='b', label='Accuracy', alpha=0.7)\n",
    "plt.plot(penalties, cv_result, color='r', label='CV accuracy', alpha=0.7)\n",
    "plt.title('Train-Test accuracy vs CV accuracy')\n",
    "plt.legend()\n",
    "plt.xlabel('penalties'); plt.ylabel('accuracy')\n",
    "plt.show()"
   ]
  },
  {
   "cell_type": "markdown",
   "metadata": {},
   "source": [
    "Точность по оценке train-test без регуляризации (штрафа) даёт лучший результат, но если использовать в качестве оценки алгоритма кросс-валидацию, то с использованием L2-регуляризации точность алгоритма имеет максимальное значение."
   ]
  },
  {
   "cell_type": "code",
   "execution_count": 25,
   "metadata": {},
   "outputs": [],
   "source": [
    "accuracy_result_train, accuracy_result_test = [],[]\n",
    "for penalty in penalties:\n",
    "  model = LogisticRegression(random_state=42, solver='newton-cg', penalty=penalty)\n",
    "  model.fit(X_train ,y_train)\n",
    "  model_pred = model.predict(X_train)\n",
    "  accuracy_result_train.append(accuracy_score(y_train, model_pred))\n",
    "\n",
    "  model.fit(X_test ,y_test)\n",
    "  model_pred = model.predict(X_test)\n",
    "  accuracy_result_test.append(accuracy_score(y_test, model_pred))"
   ]
  },
  {
   "cell_type": "code",
   "execution_count": 26,
   "metadata": {},
   "outputs": [
    {
     "data": {
      "image/png": "[encoded data removed]",
      "text/plain": [
       "<Figure size 432x288 with 1 Axes>"
      ]
     },
     "metadata": {
      "needs_background": "light"
     },
     "output_type": "display_data"
    }
   ],
   "source": [
    "plt.plot(penalties, accuracy_result_test, color='b', label='Test', alpha=0.7)\n",
    "plt.plot(penalties, accuracy_result_train, color='r', label='Train', alpha=0.7)\n",
    "plt.title('Train vs Test accuracy')\n",
    "plt.xlabel('penalties'); plt.ylabel('accuracy')\n",
    "plt.legend()\n",
    "plt.show()"
   ]
  },
  {
   "cell_type": "markdown",
   "metadata": {},
   "source": [
    "### Масштабирование признаков"
   ]
  },
  {
   "cell_type": "code",
   "execution_count": 27,
   "metadata": {},
   "outputs": [],
   "source": [
    "scaler = StandardScaler()\n",
    "X_train_scaled = scaler.fit_transform(X_train)\n",
    "X_test_scaled = scaler.transform(X_test)"
   ]
  },
  {
   "cell_type": "code",
   "execution_count": 28,
   "metadata": {},
   "outputs": [
    {
     "name": "stdout",
     "output_type": "stream",
     "text": [
      "результат классификации: \n",
      "               precision    recall  f1-score   support\n",
      "\n",
      "           0       0.78      0.73      0.76       267\n",
      "           1       0.69      0.74      0.71       213\n",
      "\n",
      "    accuracy                           0.74       480\n",
      "   macro avg       0.73      0.74      0.73       480\n",
      "weighted avg       0.74      0.74      0.74       480\n",
      "\n",
      "Матрица ошибок: \n",
      " [[196  71]\n",
      " [ 56 157]] \n",
      "\n"
     ]
    },
    {
     "data": {
      "image/png": "[encoded data removed]",
      "text/plain": [
       "<Figure size 432x288 with 2 Axes>"
      ]
     },
     "metadata": {
      "needs_background": "light"
     },
     "output_type": "display_data"
    }
   ],
   "source": [
    "lr = LogisticRegression(random_state=42, solver='newton-cg')\n",
    "lr.fit(X_train_scaled ,y_train)\n",
    "lr_pred = lr.predict(X_test_scaled)\n",
    "\n",
    "print_result(y_test=y_test, pred=lr_pred)"
   ]
  },
  {
   "cell_type": "code",
   "execution_count": 29,
   "metadata": {},
   "outputs": [
    {
     "name": "stdout",
     "output_type": "stream",
     "text": [
      "Средняя оценка точности:  0.7498478539397821\n"
     ]
    }
   ],
   "source": [
    "scores = cross_val_score(lr, X_train_scaled, y_train, cv=5)\n",
    "print('Средняя оценка точности: ', np.mean(scores))"
   ]
  },
  {
   "cell_type": "markdown",
   "metadata": {},
   "source": [
    "С использованием масштабирования признаков точность алгоритма уменьшилась."
   ]
  },
  {
   "cell_type": "markdown",
   "metadata": {},
   "source": [
    "### Настройка гиперпараметров"
   ]
  },
  {
   "cell_type": "code",
   "execution_count": 30,
   "metadata": {},
   "outputs": [
    {
     "name": "stdout",
     "output_type": "stream",
     "text": [
      "Fitting 5 folds for each of 200 candidates, totalling 1000 fits\n",
      "Best params for accuracy\n",
      "{'C': 0.74, 'penalty': 'l2'}\n"
     ]
    }
   ],
   "source": [
    "params={\"C\":[*np.arange(0,1,0.01)], \"penalty\":[\"none\",\"l2\"]}\n",
    "do_grid_search(model=lr,  params=params, x_train=X_train, y_train=y_train, x_test=X_test)"
   ]
  },
  {
   "cell_type": "code",
   "execution_count": 31,
   "metadata": {},
   "outputs": [
    {
     "name": "stdout",
     "output_type": "stream",
     "text": [
      "результат классификации: \n",
      "               precision    recall  f1-score   support\n",
      "\n",
      "           0       0.75      0.72      0.73       267\n",
      "           1       0.66      0.69      0.68       213\n",
      "\n",
      "    accuracy                           0.71       480\n",
      "   macro avg       0.71      0.71      0.71       480\n",
      "weighted avg       0.71      0.71      0.71       480\n",
      "\n",
      "Матрица ошибок: \n",
      " [[192  75]\n",
      " [ 65 148]] \n",
      "\n"
     ]
    },
    {
     "data": {
      "image/png": "[encoded data removed]",
      "text/plain": [
       "<Figure size 432x288 with 2 Axes>"
      ]
     },
     "metadata": {
      "needs_background": "light"
     },
     "output_type": "display_data"
    },
    {
     "name": "stdout",
     "output_type": "stream",
     "text": [
      "Средняя точность с настройкой гиперпараметров GridSearch:  0.760550128122998\n"
     ]
    }
   ],
   "source": [
    "lr = LogisticRegression(C=.34,penalty=\"l2\")\n",
    "lr.fit(X_train,y_train)\n",
    "\n",
    "print_result(y_test=y_test, pred=lr.fit(X_train, y_train).predict(X_test))\n",
    "score = cross_val_score(lr, X_train, y_train, cv=5, scoring='accuracy')\n",
    "print('Средняя точность с настройкой гиперпараметров GridSearch: ', np.mean(score))"
   ]
  },
  {
   "cell_type": "markdown",
   "metadata": {},
   "source": [
    "С настройкой гиперпараметров точность алгоритма увеличались на ~0.002"
   ]
  }
 ],
 "metadata": {
  "kernelspec": {
   "display_name": "Python 3 (ipykernel)",
   "language": "python",
   "name": "python3"
  },
  "language_info": {
   "codemirror_mode": {
    "name": "ipython",
    "version": 3
   },
   "file_extension": ".py",
   "mimetype": "text/x-python",
   "name": "python",
   "nbconvert_exporter": "python",
   "pygments_lexer": "ipython3",
   "version": "3.9.7"
  }
 },
 "nbformat": 4,
 "nbformat_minor": 4
}
